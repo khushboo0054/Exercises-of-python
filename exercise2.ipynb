{
 "cells": [
  {
   "cell_type": "code",
   "execution_count": 2,
   "id": "a5be4562",
   "metadata": {},
   "outputs": [],
   "source": [
    "import numpy as np\n",
    "import pandas as pd"
   ]
  },
  {
   "cell_type": "code",
   "execution_count": 9,
   "id": "68eeb5f9",
   "metadata": {},
   "outputs": [],
   "source": [
    "data1={'regiment':['nk','nk','nk','dg','dg','sco','sco','sco','sco'],\n",
    "       'company':['1','2','1','1','3','3','2','2','1'],\n",
    "       'deaths':[50,30,25,300,90,120,100,75,98],\n",
    "       'origin':['Alaska','LA','Texas','California','Florida','Oregon','Georgia','Maine','Lowa'],\n",
    "       'veterans':[23,32,40,13,15,36,12,13,14]}"
   ]
  },
  {
   "cell_type": "code",
   "execution_count": 10,
   "id": "459d6c18",
   "metadata": {},
   "outputs": [
    {
     "data": {
      "text/plain": [
       "{'regiment': ['nk', 'nk', 'nk', 'dg', 'dg', 'sco', 'sco', 'sco', 'sco'],\n",
       " 'company': ['1', '2', '1', '1', '3', '3', '2', '2', '1'],\n",
       " 'deaths': [50, 30, 25, 300, 90, 120, 100, 75, 98],\n",
       " 'origin': ['Alaska',\n",
       "  'LA',\n",
       "  'Texas',\n",
       "  'California',\n",
       "  'Florida',\n",
       "  'Oregon',\n",
       "  'Georgia',\n",
       "  'Maine',\n",
       "  'Lowa'],\n",
       " 'veterans': [23, 32, 40, 13, 15, 36, 12, 13, 14]}"
      ]
     },
     "execution_count": 10,
     "metadata": {},
     "output_type": "execute_result"
    }
   ],
   "source": [
    "data1"
   ]
  },
  {
   "cell_type": "code",
   "execution_count": 21,
   "id": "33a9fb3b",
   "metadata": {},
   "outputs": [],
   "source": [
    "army=pd.DataFrame(data1)"
   ]
  },
  {
   "cell_type": "code",
   "execution_count": 22,
   "id": "b4ed54b6",
   "metadata": {},
   "outputs": [
    {
     "data": {
      "text/html": [
       "<div>\n",
       "<style scoped>\n",
       "    .dataframe tbody tr th:only-of-type {\n",
       "        vertical-align: middle;\n",
       "    }\n",
       "\n",
       "    .dataframe tbody tr th {\n",
       "        vertical-align: top;\n",
       "    }\n",
       "\n",
       "    .dataframe thead th {\n",
       "        text-align: right;\n",
       "    }\n",
       "</style>\n",
       "<table border=\"1\" class=\"dataframe\">\n",
       "  <thead>\n",
       "    <tr style=\"text-align: right;\">\n",
       "      <th></th>\n",
       "      <th>regiment</th>\n",
       "      <th>company</th>\n",
       "      <th>deaths</th>\n",
       "      <th>origin</th>\n",
       "      <th>veterans</th>\n",
       "    </tr>\n",
       "  </thead>\n",
       "  <tbody>\n",
       "    <tr>\n",
       "      <th>0</th>\n",
       "      <td>nk</td>\n",
       "      <td>1</td>\n",
       "      <td>50</td>\n",
       "      <td>Alaska</td>\n",
       "      <td>23</td>\n",
       "    </tr>\n",
       "    <tr>\n",
       "      <th>1</th>\n",
       "      <td>nk</td>\n",
       "      <td>2</td>\n",
       "      <td>30</td>\n",
       "      <td>LA</td>\n",
       "      <td>32</td>\n",
       "    </tr>\n",
       "    <tr>\n",
       "      <th>2</th>\n",
       "      <td>nk</td>\n",
       "      <td>1</td>\n",
       "      <td>25</td>\n",
       "      <td>Texas</td>\n",
       "      <td>40</td>\n",
       "    </tr>\n",
       "    <tr>\n",
       "      <th>3</th>\n",
       "      <td>dg</td>\n",
       "      <td>1</td>\n",
       "      <td>300</td>\n",
       "      <td>California</td>\n",
       "      <td>13</td>\n",
       "    </tr>\n",
       "    <tr>\n",
       "      <th>4</th>\n",
       "      <td>dg</td>\n",
       "      <td>3</td>\n",
       "      <td>90</td>\n",
       "      <td>Florida</td>\n",
       "      <td>15</td>\n",
       "    </tr>\n",
       "    <tr>\n",
       "      <th>5</th>\n",
       "      <td>sco</td>\n",
       "      <td>3</td>\n",
       "      <td>120</td>\n",
       "      <td>Oregon</td>\n",
       "      <td>36</td>\n",
       "    </tr>\n",
       "    <tr>\n",
       "      <th>6</th>\n",
       "      <td>sco</td>\n",
       "      <td>2</td>\n",
       "      <td>100</td>\n",
       "      <td>Georgia</td>\n",
       "      <td>12</td>\n",
       "    </tr>\n",
       "    <tr>\n",
       "      <th>7</th>\n",
       "      <td>sco</td>\n",
       "      <td>2</td>\n",
       "      <td>75</td>\n",
       "      <td>Maine</td>\n",
       "      <td>13</td>\n",
       "    </tr>\n",
       "    <tr>\n",
       "      <th>8</th>\n",
       "      <td>sco</td>\n",
       "      <td>1</td>\n",
       "      <td>98</td>\n",
       "      <td>Lowa</td>\n",
       "      <td>14</td>\n",
       "    </tr>\n",
       "  </tbody>\n",
       "</table>\n",
       "</div>"
      ],
      "text/plain": [
       "  regiment company  deaths      origin  veterans\n",
       "0       nk       1      50      Alaska        23\n",
       "1       nk       2      30          LA        32\n",
       "2       nk       1      25       Texas        40\n",
       "3       dg       1     300  California        13\n",
       "4       dg       3      90     Florida        15\n",
       "5      sco       3     120      Oregon        36\n",
       "6      sco       2     100     Georgia        12\n",
       "7      sco       2      75       Maine        13\n",
       "8      sco       1      98        Lowa        14"
      ]
     },
     "execution_count": 22,
     "metadata": {},
     "output_type": "execute_result"
    }
   ],
   "source": [
    "army"
   ]
  },
  {
   "cell_type": "code",
   "execution_count": 23,
   "id": "85a98b5d",
   "metadata": {},
   "outputs": [],
   "source": [
    "army=army.set_index('origin') #set origin as index"
   ]
  },
  {
   "cell_type": "code",
   "execution_count": 24,
   "id": "f3db82e1",
   "metadata": {},
   "outputs": [
    {
     "data": {
      "text/html": [
       "<div>\n",
       "<style scoped>\n",
       "    .dataframe tbody tr th:only-of-type {\n",
       "        vertical-align: middle;\n",
       "    }\n",
       "\n",
       "    .dataframe tbody tr th {\n",
       "        vertical-align: top;\n",
       "    }\n",
       "\n",
       "    .dataframe thead th {\n",
       "        text-align: right;\n",
       "    }\n",
       "</style>\n",
       "<table border=\"1\" class=\"dataframe\">\n",
       "  <thead>\n",
       "    <tr style=\"text-align: right;\">\n",
       "      <th></th>\n",
       "      <th>regiment</th>\n",
       "      <th>company</th>\n",
       "      <th>deaths</th>\n",
       "      <th>veterans</th>\n",
       "    </tr>\n",
       "    <tr>\n",
       "      <th>origin</th>\n",
       "      <th></th>\n",
       "      <th></th>\n",
       "      <th></th>\n",
       "      <th></th>\n",
       "    </tr>\n",
       "  </thead>\n",
       "  <tbody>\n",
       "    <tr>\n",
       "      <th>Alaska</th>\n",
       "      <td>nk</td>\n",
       "      <td>1</td>\n",
       "      <td>50</td>\n",
       "      <td>23</td>\n",
       "    </tr>\n",
       "    <tr>\n",
       "      <th>LA</th>\n",
       "      <td>nk</td>\n",
       "      <td>2</td>\n",
       "      <td>30</td>\n",
       "      <td>32</td>\n",
       "    </tr>\n",
       "    <tr>\n",
       "      <th>Texas</th>\n",
       "      <td>nk</td>\n",
       "      <td>1</td>\n",
       "      <td>25</td>\n",
       "      <td>40</td>\n",
       "    </tr>\n",
       "    <tr>\n",
       "      <th>California</th>\n",
       "      <td>dg</td>\n",
       "      <td>1</td>\n",
       "      <td>300</td>\n",
       "      <td>13</td>\n",
       "    </tr>\n",
       "    <tr>\n",
       "      <th>Florida</th>\n",
       "      <td>dg</td>\n",
       "      <td>3</td>\n",
       "      <td>90</td>\n",
       "      <td>15</td>\n",
       "    </tr>\n",
       "    <tr>\n",
       "      <th>Oregon</th>\n",
       "      <td>sco</td>\n",
       "      <td>3</td>\n",
       "      <td>120</td>\n",
       "      <td>36</td>\n",
       "    </tr>\n",
       "    <tr>\n",
       "      <th>Georgia</th>\n",
       "      <td>sco</td>\n",
       "      <td>2</td>\n",
       "      <td>100</td>\n",
       "      <td>12</td>\n",
       "    </tr>\n",
       "    <tr>\n",
       "      <th>Maine</th>\n",
       "      <td>sco</td>\n",
       "      <td>2</td>\n",
       "      <td>75</td>\n",
       "      <td>13</td>\n",
       "    </tr>\n",
       "    <tr>\n",
       "      <th>Lowa</th>\n",
       "      <td>sco</td>\n",
       "      <td>1</td>\n",
       "      <td>98</td>\n",
       "      <td>14</td>\n",
       "    </tr>\n",
       "  </tbody>\n",
       "</table>\n",
       "</div>"
      ],
      "text/plain": [
       "           regiment company  deaths  veterans\n",
       "origin                                       \n",
       "Alaska           nk       1      50        23\n",
       "LA               nk       2      30        32\n",
       "Texas            nk       1      25        40\n",
       "California       dg       1     300        13\n",
       "Florida          dg       3      90        15\n",
       "Oregon          sco       3     120        36\n",
       "Georgia         sco       2     100        12\n",
       "Maine           sco       2      75        13\n",
       "Lowa            sco       1      98        14"
      ]
     },
     "execution_count": 24,
     "metadata": {},
     "output_type": "execute_result"
    }
   ],
   "source": [
    "army"
   ]
  },
  {
   "cell_type": "code",
   "execution_count": 25,
   "id": "450220e3",
   "metadata": {},
   "outputs": [
    {
     "name": "stdout",
     "output_type": "stream",
     "text": [
      "origin\n",
      "Alaska        23\n",
      "LA            32\n",
      "Texas         40\n",
      "California    13\n",
      "Florida       15\n",
      "Oregon        36\n",
      "Georgia       12\n",
      "Maine         13\n",
      "Lowa          14\n",
      "Name: veterans, dtype: int64\n"
     ]
    }
   ],
   "source": [
    "print(army['veterans'])"
   ]
  },
  {
   "cell_type": "code",
   "execution_count": 26,
   "id": "0361a132",
   "metadata": {},
   "outputs": [
    {
     "name": "stdout",
     "output_type": "stream",
     "text": [
      "origin\n",
      "Alaska        23\n",
      "LA            32\n",
      "Texas         40\n",
      "California    13\n",
      "Florida       15\n",
      "Oregon        36\n",
      "Georgia       12\n",
      "Maine         13\n",
      "Lowa          14\n",
      "Name: veterans, dtype: int64 origin\n",
      "Alaska         50\n",
      "LA             30\n",
      "Texas          25\n",
      "California    300\n",
      "Florida        90\n",
      "Oregon        120\n",
      "Georgia       100\n",
      "Maine          75\n",
      "Lowa           98\n",
      "Name: deaths, dtype: int64\n"
     ]
    }
   ],
   "source": [
    "print(army['veterans'],army['deaths'])"
   ]
  },
  {
   "cell_type": "code",
   "execution_count": 28,
   "id": "8e49094a",
   "metadata": {},
   "outputs": [
    {
     "name": "stdout",
     "output_type": "stream",
     "text": [
      "Index(['regiment', 'company', 'deaths', 'veterans'], dtype='object')\n"
     ]
    }
   ],
   "source": [
    "print(army.columns) #name of all columns"
   ]
  },
  {
   "cell_type": "code",
   "execution_count": 37,
   "id": "1187f96e",
   "metadata": {},
   "outputs": [
    {
     "name": "stdout",
     "output_type": "stream",
     "text": [
      "origin\n",
      "Maine    75\n",
      "Name: deaths, dtype: int64 origin\n",
      "Alaska    50\n",
      "Name: deaths, dtype: int64\n"
     ]
    }
   ],
   "source": [
    "print(army[army.index=='Maine'].deaths,army[army.index=='Alaska'].deaths)"
   ]
  },
  {
   "cell_type": "code",
   "execution_count": 41,
   "id": "f0dd7aa7",
   "metadata": {},
   "outputs": [
    {
     "data": {
      "text/html": [
       "<div>\n",
       "<style scoped>\n",
       "    .dataframe tbody tr th:only-of-type {\n",
       "        vertical-align: middle;\n",
       "    }\n",
       "\n",
       "    .dataframe tbody tr th {\n",
       "        vertical-align: top;\n",
       "    }\n",
       "\n",
       "    .dataframe thead th {\n",
       "        text-align: right;\n",
       "    }\n",
       "</style>\n",
       "<table border=\"1\" class=\"dataframe\">\n",
       "  <thead>\n",
       "    <tr style=\"text-align: right;\">\n",
       "      <th></th>\n",
       "      <th>company</th>\n",
       "      <th>deaths</th>\n",
       "    </tr>\n",
       "    <tr>\n",
       "      <th>origin</th>\n",
       "      <th></th>\n",
       "      <th></th>\n",
       "    </tr>\n",
       "  </thead>\n",
       "  <tbody>\n",
       "    <tr>\n",
       "      <th>California</th>\n",
       "      <td>1</td>\n",
       "      <td>300</td>\n",
       "    </tr>\n",
       "    <tr>\n",
       "      <th>Florida</th>\n",
       "      <td>3</td>\n",
       "      <td>90</td>\n",
       "    </tr>\n",
       "    <tr>\n",
       "      <th>Oregon</th>\n",
       "      <td>3</td>\n",
       "      <td>120</td>\n",
       "    </tr>\n",
       "    <tr>\n",
       "      <th>Georgia</th>\n",
       "      <td>2</td>\n",
       "      <td>100</td>\n",
       "    </tr>\n",
       "    <tr>\n",
       "      <th>Maine</th>\n",
       "      <td>2</td>\n",
       "      <td>75</td>\n",
       "    </tr>\n",
       "  </tbody>\n",
       "</table>\n",
       "</div>"
      ],
      "text/plain": [
       "           company  deaths\n",
       "origin                    \n",
       "California       1     300\n",
       "Florida          3      90\n",
       "Oregon           3     120\n",
       "Georgia          2     100\n",
       "Maine            2      75"
      ]
     },
     "execution_count": 41,
     "metadata": {},
     "output_type": "execute_result"
    }
   ],
   "source": [
    "army.iloc[3:8,1:3] # select rows 3 to7 and columns 1 and 2"
   ]
  },
  {
   "cell_type": "code",
   "execution_count": 43,
   "id": "0b82875a",
   "metadata": {},
   "outputs": [
    {
     "data": {
      "text/html": [
       "<div>\n",
       "<style scoped>\n",
       "    .dataframe tbody tr th:only-of-type {\n",
       "        vertical-align: middle;\n",
       "    }\n",
       "\n",
       "    .dataframe tbody tr th {\n",
       "        vertical-align: top;\n",
       "    }\n",
       "\n",
       "    .dataframe thead th {\n",
       "        text-align: right;\n",
       "    }\n",
       "</style>\n",
       "<table border=\"1\" class=\"dataframe\">\n",
       "  <thead>\n",
       "    <tr style=\"text-align: right;\">\n",
       "      <th></th>\n",
       "      <th>regiment</th>\n",
       "      <th>company</th>\n",
       "      <th>deaths</th>\n",
       "      <th>veterans</th>\n",
       "    </tr>\n",
       "    <tr>\n",
       "      <th>origin</th>\n",
       "      <th></th>\n",
       "      <th></th>\n",
       "      <th></th>\n",
       "      <th></th>\n",
       "    </tr>\n",
       "  </thead>\n",
       "  <tbody>\n",
       "    <tr>\n",
       "      <th>Florida</th>\n",
       "      <td>dg</td>\n",
       "      <td>3</td>\n",
       "      <td>90</td>\n",
       "      <td>15</td>\n",
       "    </tr>\n",
       "    <tr>\n",
       "      <th>Oregon</th>\n",
       "      <td>sco</td>\n",
       "      <td>3</td>\n",
       "      <td>120</td>\n",
       "      <td>36</td>\n",
       "    </tr>\n",
       "    <tr>\n",
       "      <th>Georgia</th>\n",
       "      <td>sco</td>\n",
       "      <td>2</td>\n",
       "      <td>100</td>\n",
       "      <td>12</td>\n",
       "    </tr>\n",
       "    <tr>\n",
       "      <th>Maine</th>\n",
       "      <td>sco</td>\n",
       "      <td>2</td>\n",
       "      <td>75</td>\n",
       "      <td>13</td>\n",
       "    </tr>\n",
       "    <tr>\n",
       "      <th>Lowa</th>\n",
       "      <td>sco</td>\n",
       "      <td>1</td>\n",
       "      <td>98</td>\n",
       "      <td>14</td>\n",
       "    </tr>\n",
       "  </tbody>\n",
       "</table>\n",
       "</div>"
      ],
      "text/plain": [
       "        regiment company  deaths  veterans\n",
       "origin                                    \n",
       "Florida       dg       3      90        15\n",
       "Oregon       sco       3     120        36\n",
       "Georgia      sco       2     100        12\n",
       "Maine        sco       2      75        13\n",
       "Lowa         sco       1      98        14"
      ]
     },
     "execution_count": 43,
     "metadata": {},
     "output_type": "execute_result"
    }
   ],
   "source": [
    "army.iloc[4:,:] #all rows after the 4th row and all columns selected"
   ]
  },
  {
   "cell_type": "code",
   "execution_count": 45,
   "id": "ed7dfb85",
   "metadata": {},
   "outputs": [
    {
     "data": {
      "text/html": [
       "<div>\n",
       "<style scoped>\n",
       "    .dataframe tbody tr th:only-of-type {\n",
       "        vertical-align: middle;\n",
       "    }\n",
       "\n",
       "    .dataframe tbody tr th {\n",
       "        vertical-align: top;\n",
       "    }\n",
       "\n",
       "    .dataframe thead th {\n",
       "        text-align: right;\n",
       "    }\n",
       "</style>\n",
       "<table border=\"1\" class=\"dataframe\">\n",
       "  <thead>\n",
       "    <tr style=\"text-align: right;\">\n",
       "      <th></th>\n",
       "      <th>regiment</th>\n",
       "      <th>company</th>\n",
       "      <th>deaths</th>\n",
       "      <th>veterans</th>\n",
       "    </tr>\n",
       "    <tr>\n",
       "      <th>origin</th>\n",
       "      <th></th>\n",
       "      <th></th>\n",
       "      <th></th>\n",
       "      <th></th>\n",
       "    </tr>\n",
       "  </thead>\n",
       "  <tbody>\n",
       "    <tr>\n",
       "      <th>California</th>\n",
       "      <td>dg</td>\n",
       "      <td>1</td>\n",
       "      <td>300</td>\n",
       "      <td>13</td>\n",
       "    </tr>\n",
       "    <tr>\n",
       "      <th>Florida</th>\n",
       "      <td>dg</td>\n",
       "      <td>3</td>\n",
       "      <td>90</td>\n",
       "      <td>15</td>\n",
       "    </tr>\n",
       "    <tr>\n",
       "      <th>Oregon</th>\n",
       "      <td>sco</td>\n",
       "      <td>3</td>\n",
       "      <td>120</td>\n",
       "      <td>36</td>\n",
       "    </tr>\n",
       "    <tr>\n",
       "      <th>Georgia</th>\n",
       "      <td>sco</td>\n",
       "      <td>2</td>\n",
       "      <td>100</td>\n",
       "      <td>12</td>\n",
       "    </tr>\n",
       "    <tr>\n",
       "      <th>Maine</th>\n",
       "      <td>sco</td>\n",
       "      <td>2</td>\n",
       "      <td>75</td>\n",
       "      <td>13</td>\n",
       "    </tr>\n",
       "    <tr>\n",
       "      <th>Lowa</th>\n",
       "      <td>sco</td>\n",
       "      <td>1</td>\n",
       "      <td>98</td>\n",
       "      <td>14</td>\n",
       "    </tr>\n",
       "  </tbody>\n",
       "</table>\n",
       "</div>"
      ],
      "text/plain": [
       "           regiment company  deaths  veterans\n",
       "origin                                       \n",
       "California       dg       1     300        13\n",
       "Florida          dg       3      90        15\n",
       "Oregon          sco       3     120        36\n",
       "Georgia         sco       2     100        12\n",
       "Maine           sco       2      75        13\n",
       "Lowa            sco       1      98        14"
      ]
     },
     "execution_count": 45,
     "metadata": {},
     "output_type": "execute_result"
    }
   ],
   "source": [
    "army.loc[army.deaths>50] # select rows where army.deaths is greater than 50"
   ]
  },
  {
   "cell_type": "code",
   "execution_count": 51,
   "id": "8f033e10",
   "metadata": {},
   "outputs": [],
   "source": [
    "army1=army['deaths']"
   ]
  },
  {
   "cell_type": "code",
   "execution_count": 52,
   "id": "775cd959",
   "metadata": {},
   "outputs": [
    {
     "data": {
      "text/plain": [
       "origin\n",
       "Alaska         50\n",
       "LA             30\n",
       "Texas          25\n",
       "California    300\n",
       "Florida        90\n",
       "Oregon        120\n",
       "Georgia       100\n",
       "Maine          75\n",
       "Lowa           98\n",
       "Name: deaths, dtype: int64"
      ]
     },
     "execution_count": 52,
     "metadata": {},
     "output_type": "execute_result"
    }
   ],
   "source": [
    "army1"
   ]
  },
  {
   "cell_type": "code",
   "execution_count": 58,
   "id": "9427ba1d",
   "metadata": {},
   "outputs": [
    {
     "data": {
      "text/plain": [
       "origin\n",
       "LA       30\n",
       "Texas    25\n",
       "Name: deaths, dtype: int64"
      ]
     },
     "execution_count": 58,
     "metadata": {},
     "output_type": "execute_result"
    }
   ],
   "source": [
    "army1[(army1>500)|(army1<50)]"
   ]
  },
  {
   "cell_type": "code",
   "execution_count": 60,
   "id": "e1cb281e",
   "metadata": {},
   "outputs": [
    {
     "data": {
      "text/html": [
       "<div>\n",
       "<style scoped>\n",
       "    .dataframe tbody tr th:only-of-type {\n",
       "        vertical-align: middle;\n",
       "    }\n",
       "\n",
       "    .dataframe tbody tr th {\n",
       "        vertical-align: top;\n",
       "    }\n",
       "\n",
       "    .dataframe thead th {\n",
       "        text-align: right;\n",
       "    }\n",
       "</style>\n",
       "<table border=\"1\" class=\"dataframe\">\n",
       "  <thead>\n",
       "    <tr style=\"text-align: right;\">\n",
       "      <th></th>\n",
       "      <th>regiment</th>\n",
       "      <th>company</th>\n",
       "      <th>deaths</th>\n",
       "      <th>veterans</th>\n",
       "    </tr>\n",
       "    <tr>\n",
       "      <th>origin</th>\n",
       "      <th></th>\n",
       "      <th></th>\n",
       "      <th></th>\n",
       "      <th></th>\n",
       "    </tr>\n",
       "  </thead>\n",
       "  <tbody>\n",
       "    <tr>\n",
       "      <th>California</th>\n",
       "      <td>dg</td>\n",
       "      <td>1</td>\n",
       "      <td>300</td>\n",
       "      <td>13</td>\n",
       "    </tr>\n",
       "    <tr>\n",
       "      <th>Florida</th>\n",
       "      <td>dg</td>\n",
       "      <td>3</td>\n",
       "      <td>90</td>\n",
       "      <td>15</td>\n",
       "    </tr>\n",
       "  </tbody>\n",
       "</table>\n",
       "</div>"
      ],
      "text/plain": [
       "           regiment company  deaths  veterans\n",
       "origin                                       \n",
       "California       dg       1     300        13\n",
       "Florida          dg       3      90        15"
      ]
     },
     "execution_count": 60,
     "metadata": {},
     "output_type": "execute_result"
    }
   ],
   "source": [
    "army[army.regiment=='dg']  # regiments named Dragoons or dg"
   ]
  },
  {
   "cell_type": "code",
   "execution_count": 67,
   "id": "8e9d57d6",
   "metadata": {},
   "outputs": [
    {
     "data": {
      "text/html": [
       "<div>\n",
       "<style scoped>\n",
       "    .dataframe tbody tr th:only-of-type {\n",
       "        vertical-align: middle;\n",
       "    }\n",
       "\n",
       "    .dataframe tbody tr th {\n",
       "        vertical-align: top;\n",
       "    }\n",
       "\n",
       "    .dataframe thead th {\n",
       "        text-align: right;\n",
       "    }\n",
       "</style>\n",
       "<table border=\"1\" class=\"dataframe\">\n",
       "  <thead>\n",
       "    <tr style=\"text-align: right;\">\n",
       "      <th></th>\n",
       "      <th>regiment</th>\n",
       "      <th>company</th>\n",
       "      <th>deaths</th>\n",
       "      <th>veterans</th>\n",
       "    </tr>\n",
       "    <tr>\n",
       "      <th>origin</th>\n",
       "      <th></th>\n",
       "      <th></th>\n",
       "      <th></th>\n",
       "      <th></th>\n",
       "    </tr>\n",
       "  </thead>\n",
       "  <tbody>\n",
       "    <tr>\n",
       "      <th>Texas</th>\n",
       "      <td>nk</td>\n",
       "      <td>1</td>\n",
       "      <td>25</td>\n",
       "      <td>40</td>\n",
       "    </tr>\n",
       "    <tr>\n",
       "      <th>Florida</th>\n",
       "      <td>dg</td>\n",
       "      <td>3</td>\n",
       "      <td>90</td>\n",
       "      <td>15</td>\n",
       "    </tr>\n",
       "  </tbody>\n",
       "</table>\n",
       "</div>"
      ],
      "text/plain": [
       "        regiment company  deaths  veterans\n",
       "origin                                    \n",
       "Texas         nk       1      25        40\n",
       "Florida       dg       3      90        15"
      ]
     },
     "execution_count": 67,
     "metadata": {},
     "output_type": "execute_result"
    }
   ],
   "source": [
    "army[(army.index=='Texas')|(army.index=='Florida')]"
   ]
  },
  {
   "cell_type": "code",
   "execution_count": 72,
   "id": "81738a3e",
   "metadata": {},
   "outputs": [],
   "source": [
    "army2=army[army.index=='Florida'] "
   ]
  },
  {
   "cell_type": "code",
   "execution_count": 74,
   "id": "84ef725e",
   "metadata": {},
   "outputs": [
    {
     "data": {
      "text/html": [
       "<div>\n",
       "<style scoped>\n",
       "    .dataframe tbody tr th:only-of-type {\n",
       "        vertical-align: middle;\n",
       "    }\n",
       "\n",
       "    .dataframe tbody tr th {\n",
       "        vertical-align: top;\n",
       "    }\n",
       "\n",
       "    .dataframe thead th {\n",
       "        text-align: right;\n",
       "    }\n",
       "</style>\n",
       "<table border=\"1\" class=\"dataframe\">\n",
       "  <thead>\n",
       "    <tr style=\"text-align: right;\">\n",
       "      <th></th>\n",
       "      <th>deaths</th>\n",
       "    </tr>\n",
       "    <tr>\n",
       "      <th>origin</th>\n",
       "      <th></th>\n",
       "    </tr>\n",
       "  </thead>\n",
       "  <tbody>\n",
       "    <tr>\n",
       "      <th>Florida</th>\n",
       "      <td>90</td>\n",
       "    </tr>\n",
       "  </tbody>\n",
       "</table>\n",
       "</div>"
      ],
      "text/plain": [
       "         deaths\n",
       "origin         \n",
       "Florida      90"
      ]
     },
     "execution_count": 74,
     "metadata": {},
     "output_type": "execute_result"
    }
   ],
   "source": [
    "army2.iloc[:,2:3] #select 3rd cell in the row named Florida"
   ]
  },
  {
   "cell_type": "code",
   "execution_count": 76,
   "id": "d816f443",
   "metadata": {},
   "outputs": [],
   "source": [
    "army3=army.deaths"
   ]
  },
  {
   "cell_type": "code",
   "execution_count": 78,
   "id": "5b01af6d",
   "metadata": {},
   "outputs": [
    {
     "data": {
      "text/plain": [
       "origin\n",
       "Alaska         50\n",
       "LA             30\n",
       "Texas          25\n",
       "California    300\n",
       "Florida        90\n",
       "Oregon        120\n",
       "Georgia       100\n",
       "Maine          75\n",
       "Lowa           98\n",
       "Name: deaths, dtype: int64"
      ]
     },
     "execution_count": 78,
     "metadata": {},
     "output_type": "execute_result"
    }
   ],
   "source": [
    "army3"
   ]
  },
  {
   "cell_type": "code",
   "execution_count": 81,
   "id": "fc91ec44",
   "metadata": {},
   "outputs": [
    {
     "data": {
      "text/plain": [
       "25"
      ]
     },
     "execution_count": 81,
     "metadata": {},
     "output_type": "execute_result"
    }
   ],
   "source": [
    "army3[2]"
   ]
  },
  {
   "cell_type": "code",
   "execution_count": null,
   "id": "a247bbf5",
   "metadata": {},
   "outputs": [],
   "source": []
  }
 ],
 "metadata": {
  "kernelspec": {
   "display_name": "Python 3 (ipykernel)",
   "language": "python",
   "name": "python3"
  },
  "language_info": {
   "codemirror_mode": {
    "name": "ipython",
    "version": 3
   },
   "file_extension": ".py",
   "mimetype": "text/x-python",
   "name": "python",
   "nbconvert_exporter": "python",
   "pygments_lexer": "ipython3",
   "version": "3.9.7"
  }
 },
 "nbformat": 4,
 "nbformat_minor": 5
}
